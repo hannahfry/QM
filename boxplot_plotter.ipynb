{
 "cells": [
  {
   "cell_type": "code",
   "execution_count": 4,
   "metadata": {},
   "outputs": [
    {
     "data": {
      "image/png": "[encoded data removed]",
      "text/plain": [
       "<Figure size 288x720 with 1 Axes>"
      ]
     },
     "metadata": {
      "needs_background": "light"
     },
     "output_type": "display_data"
    }
   ],
   "source": [
    "# This program creates a boxplot from data stored in a csv file and saves it as a png image.\n",
    "\n",
    "# The data file must be one column of numbers - no column labels, etc.\n",
    "# It must be saved as a csv file (e.g. use \"Save As\" in Excel and choose csv format).\n",
    "# It must be saved in the same folder as this program.\n",
    "# See the file sample_boxplot_data.csv for reference.\n",
    "\n",
    "# In the next line, replace sample_boxplot_data.csv with the filename of your data:\n",
    "data_filename = 'sample_boxplot_data.csv'\n",
    "\n",
    "# In the next line, replace boxplot with the filename you wish to save as:\n",
    "output_filename = 'boxplot.png'\n",
    "\n",
    "# Use the next line to set figure height and width (experiment to check the scale):\n",
    "figure_width, figure_height = 4,10\n",
    "\n",
    "# You can ignore these two lines:\n",
    "import matplotlib.pyplot as plt\n",
    "import numpy as np\n",
    "\n",
    "data = np.genfromtxt(data_filename)\n",
    "\n",
    "# If there are errors importing the data, you can also copy the data in as a list.\n",
    "# e.g. data = [1.95878982, 2.59203983, 1.22704688, ...]\n",
    "\n",
    "# This line creates the figure. \n",
    "plt.figure(figsize=(figure_width,figure_height))\n",
    "\n",
    "# Uncomment the next three lines to set the axis limits (otherwise they will be set automatically):\n",
    "#axis_min = 0.95\n",
    "#axis_max = 4.05\n",
    "#plt.ylim([axis_min,axis_max])\n",
    "\n",
    "# The next lines create and save the plot:\n",
    "plt.xlim([0.75,1.25])\n",
    "plt.xticks([])\n",
    "plt.boxplot(data, manage_ticks=(False))\n",
    "plt.savefig(output_filename)"
   ]
  },
  {
   "cell_type": "code",
   "execution_count": 3,
   "metadata": {},
   "outputs": [
    {
     "data": {
      "text/plain": [
       "array([1.95878982, 2.59203983, 1.22704688, 3.20916556, 2.69716859,\n",
       "       1.6533992 , 1.75191747, 1.57760322, 1.71539381, 3.46971287,\n",
       "       1.85738614, 1.37392199, 1.21962905, 1.42952209, 1.21437088,\n",
       "       1.25395645, 2.7893116 , 3.72604399, 3.98979995, 2.74035602,\n",
       "       1.26302775, 1.96834914, 2.74435392, 1.18018433, 2.04984537,\n",
       "       1.68483156, 2.00451106, 3.5143353 , 1.07826189, 1.1369221 ,\n",
       "       2.89549069, 2.06305314, 1.37173346, 3.13686839, 1.22894086,\n",
       "       1.32633486, 2.59287123, 2.12261327, 2.23337296, 2.2866054 ,\n",
       "       2.59971693, 1.62357841, 3.38882356, 1.41167735, 3.37672347,\n",
       "       3.40911516, 2.84514596, 1.32457772, 1.03367971, 2.60458267,\n",
       "       1.79468806, 2.80195408, 1.82005548, 1.52902135, 2.22770497,\n",
       "       2.24991853, 1.04576026, 3.3967445 , 3.52804272, 2.47326121,\n",
       "       1.80178588, 3.92300095, 3.49903062, 1.2232435 , 2.34549723,\n",
       "       3.4265654 , 1.66957942, 1.1376074 , 1.97259214, 1.18040878,\n",
       "       1.24997603, 1.98870557, 2.67607182, 2.18392227, 2.72442094,\n",
       "       3.13051758, 2.46141017, 2.1651241 , 3.26282328, 3.26530874,\n",
       "       1.18763653, 2.32061762, 1.22108257, 3.07427355, 1.07080205,\n",
       "       3.0836399 , 2.07909002, 2.04026285, 3.14172201, 3.22187127,\n",
       "       2.53093472, 2.94607531, 2.13125649, 1.08638155, 1.61132104,\n",
       "       2.42396156, 3.97760907, 1.32725228, 2.34422984, 2.98915435])"
      ]
     },
     "execution_count": 3,
     "metadata": {},
     "output_type": "execute_result"
    }
   ],
   "source": [
    "data"
   ]
  },
  {
   "cell_type": "code",
   "execution_count": null,
   "metadata": {},
   "outputs": [],
   "source": []
  }
 ],
 "metadata": {
  "kernelspec": {
   "display_name": "Python 3",
   "language": "python",
   "name": "python3"
  },
  "language_info": {
   "codemirror_mode": {
    "name": "ipython",
    "version": 3
   },
   "file_extension": ".py",
   "mimetype": "text/x-python",
   "name": "python",
   "nbconvert_exporter": "python",
   "pygments_lexer": "ipython3",
   "version": "3.7.8"
  }
 },
 "nbformat": 4,
 "nbformat_minor": 4
}
